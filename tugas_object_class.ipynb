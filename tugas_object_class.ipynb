{
  "nbformat": 4,
  "nbformat_minor": 0,
  "metadata": {
    "colab": {
      "provenance": [],
      "authorship_tag": "ABX9TyMJyrnsh2IGu1Hdk+Pv33AD",
      "include_colab_link": true
    },
    "kernelspec": {
      "name": "python3",
      "display_name": "Python 3"
    },
    "language_info": {
      "name": "python"
    }
  },
  "cells": [
    {
      "cell_type": "markdown",
      "metadata": {
        "id": "view-in-github",
        "colab_type": "text"
      },
      "source": [
        "<a href=\"https://colab.research.google.com/github/fathiatul/PBO_03/blob/main/tugas_object_class.ipynb\" target=\"_parent\"><img src=\"https://colab.research.google.com/assets/colab-badge.svg\" alt=\"Open In Colab\"/></a>"
      ]
    },
    {
      "cell_type": "code",
      "execution_count": 1,
      "metadata": {
        "colab": {
          "base_uri": "https://localhost:8080/"
        },
        "id": "IJKy2VN189wb",
        "outputId": "04a8c473-f175-49a0-b321-8327e2c2864b"
      },
      "outputs": [
        {
          "output_type": "stream",
          "name": "stdout",
          "text": [
            "Nama: Budi\n",
            "NIM : 123456\n",
            "------\n",
            "Nama: Siti\n",
            "NIM : 789101\n"
          ]
        }
      ],
      "source": [
        "# Membuat class Mahasiswa\n",
        "class Mahasiswa:\n",
        "    def __init__(self, nama, nim):\n",
        "        self.nama = nama\n",
        "        self.nim = nim\n",
        "\n",
        "    def tampilkan_data(self):\n",
        "        print(\"Nama:\", self.nama)\n",
        "        print(\"NIM :\", self.nim)\n",
        "\n",
        "# Membuat objek dari class Mahasiswa\n",
        "mhs1 = Mahasiswa(\"Budi\", \"123456\")\n",
        "mhs2 = Mahasiswa(\"Siti\", \"789101\")\n",
        "\n",
        "# Menampilkan data masing-masing mahasiswa\n",
        "mhs1.tampilkan_data()\n",
        "print(\"------\")\n",
        "mhs2.tampilkan_data()\n"
      ]
    }
  ]
}